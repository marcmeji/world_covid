{
 "cells": [
  {
   "cell_type": "markdown",
   "metadata": {},
   "source": [
    "## Library importation"
   ]
  },
  {
   "cell_type": "code",
   "execution_count": 1,
   "metadata": {
    "ExecuteTime": {
     "end_time": "2020-04-07T19:00:52.585220Z",
     "start_time": "2020-04-07T19:00:45.019415Z"
    }
   },
   "outputs": [
    {
     "name": "stderr",
     "output_type": "stream",
     "text": [
      "C:\\Users\\marcm\\Anaconda3\\lib\\site-packages\\statsmodels\\tools\\_testing.py:19: FutureWarning: pandas.util.testing is deprecated. Use the functions in the public API at pandas.testing instead.\n",
      "  import pandas.util.testing as tm\n"
     ]
    }
   ],
   "source": [
    "import pandas as pd\n",
    "import numpy as np\n",
    "import matplotlib.pyplot as plt\n",
    "%matplotlib inline\n",
    "import seaborn as sns\n",
    "from ipywidgets import interact, interactive, fixed, interact_manual\n",
    "import ipywidgets as widgets\n",
    "import datetime\n",
    "import warnings\n",
    "warnings.filterwarnings('ignore')"
   ]
  },
  {
   "cell_type": "markdown",
   "metadata": {},
   "source": [
    "## Data importation"
   ]
  },
  {
   "cell_type": "markdown",
   "metadata": {},
   "source": [
    "- Data from **European Centre for Disease Prevention and Control** (https://data.europa.eu/euodp/en/data/dataset/covid-19-coronavirus-data).\n",
    "\n",
    "- Updated daily.\n"
   ]
  },
  {
   "cell_type": "code",
   "execution_count": 2,
   "metadata": {
    "ExecuteTime": {
     "end_time": "2020-04-07T19:00:53.949057Z",
     "start_time": "2020-04-07T19:00:52.588211Z"
    }
   },
   "outputs": [],
   "source": [
    "df = pd.read_csv('https://opendata.ecdc.europa.eu/covid19/casedistribution/csv')"
   ]
  },
  {
   "cell_type": "markdown",
   "metadata": {},
   "source": [
    "## Preliminary data exploration"
   ]
  },
  {
   "cell_type": "code",
   "execution_count": 3,
   "metadata": {
    "ExecuteTime": {
     "end_time": "2020-04-07T19:00:53.990459Z",
     "start_time": "2020-04-07T19:00:53.951056Z"
    }
   },
   "outputs": [
    {
     "data": {
      "text/html": [
       "<div>\n",
       "<style scoped>\n",
       "    .dataframe tbody tr th:only-of-type {\n",
       "        vertical-align: middle;\n",
       "    }\n",
       "\n",
       "    .dataframe tbody tr th {\n",
       "        vertical-align: top;\n",
       "    }\n",
       "\n",
       "    .dataframe thead th {\n",
       "        text-align: right;\n",
       "    }\n",
       "</style>\n",
       "<table border=\"1\" class=\"dataframe\">\n",
       "  <thead>\n",
       "    <tr style=\"text-align: right;\">\n",
       "      <th></th>\n",
       "      <th>dateRep</th>\n",
       "      <th>day</th>\n",
       "      <th>month</th>\n",
       "      <th>year</th>\n",
       "      <th>cases</th>\n",
       "      <th>deaths</th>\n",
       "      <th>countriesAndTerritories</th>\n",
       "      <th>geoId</th>\n",
       "      <th>countryterritoryCode</th>\n",
       "      <th>popData2018</th>\n",
       "    </tr>\n",
       "  </thead>\n",
       "  <tbody>\n",
       "    <tr>\n",
       "      <th>0</th>\n",
       "      <td>07/04/2020</td>\n",
       "      <td>7</td>\n",
       "      <td>4</td>\n",
       "      <td>2020</td>\n",
       "      <td>38</td>\n",
       "      <td>0</td>\n",
       "      <td>Afghanistan</td>\n",
       "      <td>AF</td>\n",
       "      <td>AFG</td>\n",
       "      <td>37172386.0</td>\n",
       "    </tr>\n",
       "    <tr>\n",
       "      <th>1</th>\n",
       "      <td>06/04/2020</td>\n",
       "      <td>6</td>\n",
       "      <td>4</td>\n",
       "      <td>2020</td>\n",
       "      <td>29</td>\n",
       "      <td>2</td>\n",
       "      <td>Afghanistan</td>\n",
       "      <td>AF</td>\n",
       "      <td>AFG</td>\n",
       "      <td>37172386.0</td>\n",
       "    </tr>\n",
       "    <tr>\n",
       "      <th>2</th>\n",
       "      <td>05/04/2020</td>\n",
       "      <td>5</td>\n",
       "      <td>4</td>\n",
       "      <td>2020</td>\n",
       "      <td>35</td>\n",
       "      <td>1</td>\n",
       "      <td>Afghanistan</td>\n",
       "      <td>AF</td>\n",
       "      <td>AFG</td>\n",
       "      <td>37172386.0</td>\n",
       "    </tr>\n",
       "    <tr>\n",
       "      <th>3</th>\n",
       "      <td>04/04/2020</td>\n",
       "      <td>4</td>\n",
       "      <td>4</td>\n",
       "      <td>2020</td>\n",
       "      <td>0</td>\n",
       "      <td>0</td>\n",
       "      <td>Afghanistan</td>\n",
       "      <td>AF</td>\n",
       "      <td>AFG</td>\n",
       "      <td>37172386.0</td>\n",
       "    </tr>\n",
       "    <tr>\n",
       "      <th>4</th>\n",
       "      <td>03/04/2020</td>\n",
       "      <td>3</td>\n",
       "      <td>4</td>\n",
       "      <td>2020</td>\n",
       "      <td>43</td>\n",
       "      <td>0</td>\n",
       "      <td>Afghanistan</td>\n",
       "      <td>AF</td>\n",
       "      <td>AFG</td>\n",
       "      <td>37172386.0</td>\n",
       "    </tr>\n",
       "  </tbody>\n",
       "</table>\n",
       "</div>"
      ],
      "text/plain": [
       "      dateRep  day  month  year  cases  deaths countriesAndTerritories geoId  \\\n",
       "0  07/04/2020    7      4  2020     38       0             Afghanistan    AF   \n",
       "1  06/04/2020    6      4  2020     29       2             Afghanistan    AF   \n",
       "2  05/04/2020    5      4  2020     35       1             Afghanistan    AF   \n",
       "3  04/04/2020    4      4  2020      0       0             Afghanistan    AF   \n",
       "4  03/04/2020    3      4  2020     43       0             Afghanistan    AF   \n",
       "\n",
       "  countryterritoryCode  popData2018  \n",
       "0                  AFG   37172386.0  \n",
       "1                  AFG   37172386.0  \n",
       "2                  AFG   37172386.0  \n",
       "3                  AFG   37172386.0  \n",
       "4                  AFG   37172386.0  "
      ]
     },
     "execution_count": 3,
     "metadata": {},
     "output_type": "execute_result"
    }
   ],
   "source": [
    "df.head()"
   ]
  },
  {
   "cell_type": "code",
   "execution_count": 4,
   "metadata": {
    "ExecuteTime": {
     "end_time": "2020-04-07T19:00:54.023369Z",
     "start_time": "2020-04-07T19:00:53.996474Z"
    }
   },
   "outputs": [
    {
     "name": "stdout",
     "output_type": "stream",
     "text": [
      "<class 'pandas.core.frame.DataFrame'>\n",
      "RangeIndex: 9310 entries, 0 to 9309\n",
      "Data columns (total 10 columns):\n",
      " #   Column                   Non-Null Count  Dtype  \n",
      "---  ------                   --------------  -----  \n",
      " 0   dateRep                  9310 non-null   object \n",
      " 1   day                      9310 non-null   int64  \n",
      " 2   month                    9310 non-null   int64  \n",
      " 3   year                     9310 non-null   int64  \n",
      " 4   cases                    9310 non-null   int64  \n",
      " 5   deaths                   9310 non-null   int64  \n",
      " 6   countriesAndTerritories  9310 non-null   object \n",
      " 7   geoId                    9286 non-null   object \n",
      " 8   countryterritoryCode     9125 non-null   object \n",
      " 9   popData2018              9172 non-null   float64\n",
      "dtypes: float64(1), int64(5), object(4)\n",
      "memory usage: 727.5+ KB\n"
     ]
    }
   ],
   "source": [
    "df.info()"
   ]
  },
  {
   "cell_type": "markdown",
   "metadata": {},
   "source": [
    "### Number of countries"
   ]
  },
  {
   "cell_type": "code",
   "execution_count": 5,
   "metadata": {
    "ExecuteTime": {
     "end_time": "2020-04-07T19:00:54.042319Z",
     "start_time": "2020-04-07T19:00:54.031347Z"
    }
   },
   "outputs": [
    {
     "data": {
      "text/plain": [
       "204"
      ]
     },
     "execution_count": 5,
     "metadata": {},
     "output_type": "execute_result"
    }
   ],
   "source": [
    "len(df['countriesAndTerritories'].unique())"
   ]
  },
  {
   "cell_type": "markdown",
   "metadata": {},
   "source": [
    "## Column transformations"
   ]
  },
  {
   "cell_type": "markdown",
   "metadata": {},
   "source": [
    "### Date format to datetime"
   ]
  },
  {
   "cell_type": "code",
   "execution_count": 6,
   "metadata": {
    "ExecuteTime": {
     "end_time": "2020-04-07T19:00:54.067766Z",
     "start_time": "2020-04-07T19:00:54.048303Z"
    }
   },
   "outputs": [],
   "source": [
    "df['dateRep'] =  pd.to_datetime(df['dateRep'], format='%d/%m/%Y')"
   ]
  },
  {
   "cell_type": "markdown",
   "metadata": {},
   "source": [
    "### Checking last update"
   ]
  },
  {
   "cell_type": "code",
   "execution_count": 7,
   "metadata": {
    "ExecuteTime": {
     "end_time": "2020-04-07T19:00:54.087713Z",
     "start_time": "2020-04-07T19:00:54.075745Z"
    }
   },
   "outputs": [
    {
     "data": {
      "text/plain": [
       "Timestamp('2020-04-07 00:00:00')"
      ]
     },
     "execution_count": 7,
     "metadata": {},
     "output_type": "execute_result"
    }
   ],
   "source": [
    "df.dateRep.max()"
   ]
  },
  {
   "cell_type": "markdown",
   "metadata": {},
   "source": [
    "### New column: cases per 100.000 inhabitants (cases_per_100K)"
   ]
  },
  {
   "cell_type": "code",
   "execution_count": 8,
   "metadata": {
    "ExecuteTime": {
     "end_time": "2020-04-07T19:00:54.152537Z",
     "start_time": "2020-04-07T19:00:54.094694Z"
    }
   },
   "outputs": [],
   "source": [
    "# New columns: cases per 100K people\n",
    "\n",
    "df['cases_per_100K'] = (100000*df['cases']) / df['popData2018']"
   ]
  },
  {
   "cell_type": "markdown",
   "metadata": {},
   "source": [
    "### Selecting dates from Jan 15th"
   ]
  },
  {
   "cell_type": "code",
   "execution_count": 9,
   "metadata": {
    "ExecuteTime": {
     "end_time": "2020-04-07T19:00:54.171488Z",
     "start_time": "2020-04-07T19:00:54.155530Z"
    }
   },
   "outputs": [],
   "source": [
    "df = df.loc[df['dateRep']>'2020-01-15']"
   ]
  },
  {
   "cell_type": "markdown",
   "metadata": {},
   "source": [
    "## Plots"
   ]
  },
  {
   "cell_type": "markdown",
   "metadata": {},
   "source": [
    "### World cummulative cases and deaths"
   ]
  },
  {
   "cell_type": "code",
   "execution_count": 10,
   "metadata": {
    "ExecuteTime": {
     "end_time": "2020-04-07T19:00:54.857897Z",
     "start_time": "2020-04-07T19:00:54.179469Z"
    }
   },
   "outputs": [
    {
     "data": {
      "image/png": "[encoded data removed]",
      "text/plain": [
       "<Figure size 1440x720 with 1 Axes>"
      ]
     },
     "metadata": {},
     "output_type": "display_data"
    }
   ],
   "source": [
    "dfdates = df.groupby('dateRep', as_index=False).agg('sum')\n",
    "dfdates = dfdates.sort_values('dateRep')\n",
    "dfdates['cum_cases'] = np.cumsum(dfdates['cases'])\n",
    "dfdates['cum_deaths'] = np.cumsum(dfdates['deaths'])\n",
    "\n",
    "plt.style.use('seaborn-darkgrid')\n",
    "fig = plt.subplots(figsize=(20,10))\n",
    "ax1 = plt.bar('dateRep', 'cum_cases', data=dfdates, color='firebrick', label='Cases', linewidth=5)\n",
    "ax2 = plt.bar('dateRep', 'cum_deaths', data=dfdates, color='black', label='Deaths', linewidth=5)\n",
    "plt.title('World cummulative cases and deaths', fontsize='xx-large')\n",
    "plt.xticks(fontsize='large', rotation=40 )\n",
    "plt.legend(loc='upper left', fontsize='x-large')\n",
    "\n",
    "\n",
    "plt.show()"
   ]
  },
  {
   "cell_type": "markdown",
   "metadata": {},
   "source": [
    "### World daily new cases and deaths"
   ]
  },
  {
   "cell_type": "code",
   "execution_count": 11,
   "metadata": {
    "ExecuteTime": {
     "end_time": "2020-04-07T19:00:55.448083Z",
     "start_time": "2020-04-07T19:00:54.861881Z"
    }
   },
   "outputs": [
    {
     "data": {
      "image/png": "[encoded data removed]",
      "text/plain": [
       "<Figure size 1440x720 with 1 Axes>"
      ]
     },
     "metadata": {},
     "output_type": "display_data"
    }
   ],
   "source": [
    "dfdates = df.groupby('dateRep', as_index=False).agg('sum')\n",
    "dfdates = dfdates.sort_values('dateRep')\n",
    "\n",
    "plt.style.use('seaborn-darkgrid')\n",
    "fig = plt.subplots(figsize=(20,10))\n",
    "ax1 = plt.bar('dateRep', 'cases', data=dfdates, color='firebrick', label='Cases', linewidth=5)\n",
    "ax2 = plt.bar('dateRep', 'deaths', data=dfdates, color='black', label='Deaths', linewidth=5)\n",
    "plt.title('World daily new cases and deaths', fontsize='xx-large')\n",
    "plt.xticks(fontsize='large', rotation=40 )\n",
    "plt.legend(loc='upper left', fontsize='x-large')\n",
    "\n",
    "\n",
    "plt.show()"
   ]
  },
  {
   "cell_type": "markdown",
   "metadata": {},
   "source": [
    "### Cummulative cases and deaths per country and date"
   ]
  },
  {
   "cell_type": "code",
   "execution_count": 12,
   "metadata": {
    "ExecuteTime": {
     "end_time": "2020-04-07T19:00:55.847533Z",
     "start_time": "2020-04-07T19:00:55.451073Z"
    }
   },
   "outputs": [
    {
     "data": {
      "application/vnd.jupyter.widget-view+json": {
       "model_id": "2208fb3372ea4487a81316c2072afc8e",
       "version_major": 2,
       "version_minor": 0
      },
      "text/plain": [
       "interactive(children=(Dropdown(description='country', options=('Afghanistan', 'Albania', 'Andorra', 'Algeria',…"
      ]
     },
     "metadata": {},
     "output_type": "display_data"
    }
   ],
   "source": [
    "uniques = [c for c in df['countriesAndTerritories'].unique()]\n",
    "\n",
    "@interact\n",
    "def choose_country(country = uniques):\n",
    "    dfcountry = df.loc[df['countriesAndTerritories']==country]\n",
    "    dfcountry = dfcountry.sort_values('dateRep')\n",
    "    dfcountry['cum_cases'] = np.cumsum(dfcountry['cases'])\n",
    "    dfcountry['cum_deaths'] = np.cumsum(dfcountry['deaths'])\n",
    "\n",
    "    plt.style.use('seaborn-darkgrid')\n",
    "    fig = plt.subplots(figsize=(20,10))\n",
    "    ax1 = plt.plot('dateRep', 'cum_cases', data=dfcountry, color='firebrick', label='Cases', linewidth=4)\n",
    "    ax2 = plt.plot('dateRep', 'cum_deaths', data=dfcountry, color='black', label='Deaths', linewidth=4)\n",
    "    plt.title(str.upper(f'{country}'), fontsize='xx-large')\n",
    "    plt.xticks(fontsize='large', rotation=40 )\n",
    "    plt.legend(loc='upper left', fontsize='x-large')\n",
    "    \n",
    "    \n",
    "    plt.show()"
   ]
  },
  {
   "cell_type": "code",
   "execution_count": null,
   "metadata": {},
   "outputs": [],
   "source": []
  }
 ],
 "metadata": {
  "kernelspec": {
   "display_name": "Python 3",
   "language": "python",
   "name": "python3"
  },
  "language_info": {
   "codemirror_mode": {
    "name": "ipython",
    "version": 3
   },
   "file_extension": ".py",
   "mimetype": "text/x-python",
   "name": "python",
   "nbconvert_exporter": "python",
   "pygments_lexer": "ipython3",
   "version": "3.7.4"
  },
  "varInspector": {
   "cols": {
    "lenName": 16,
    "lenType": 16,
    "lenVar": 40
   },
   "kernels_config": {
    "python": {
     "delete_cmd_postfix": "",
     "delete_cmd_prefix": "del ",
     "library": "var_list.py",
     "varRefreshCmd": "print(var_dic_list())"
    },
    "r": {
     "delete_cmd_postfix": ") ",
     "delete_cmd_prefix": "rm(",
     "library": "var_list.r",
     "varRefreshCmd": "cat(var_dic_list()) "
    }
   },
   "types_to_exclude": [
    "module",
    "function",
    "builtin_function_or_method",
    "instance",
    "_Feature"
   ],
   "window_display": false
  }
 },
 "nbformat": 4,
 "nbformat_minor": 4
}
